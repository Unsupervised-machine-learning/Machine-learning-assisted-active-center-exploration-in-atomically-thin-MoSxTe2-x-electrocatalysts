{
 "cells": [
  {
   "cell_type": "code",
   "execution_count": 1,
   "id": "35fc9c4f-0cb4-4dad-837f-7baf44371275",
   "metadata": {},
   "outputs": [],
   "source": [
    "import json\n",
    "import numpy as np\n",
    "import pandas as pd\n",
    "import matplotlib.pyplot as plt\n",
    "\n",
    "from PIL import Image\n",
    "from copy import deepcopy\n",
    "from sklearn.metrics import accuracy_score, f1_score, precision_score, recall_score\n",
    "from sklearn.metrics import normalized_mutual_info_score"
   ]
  },
  {
   "cell_type": "code",
   "execution_count": 2,
   "id": "e3a10b81-21c2-407a-b87a-3bd1802cc6e0",
   "metadata": {},
   "outputs": [],
   "source": [
    "def get_metrics(cs, cs_new):\n",
    "    print('ACC:', accuracy_score(cs, cs_new))\n",
    "    print('Precision:', precision_score(cs, cs_new, average='macro'))\n",
    "    print('Recall:', recall_score(cs, cs_new, average='macro'))\n",
    "    print('F1:', f1_score(cs, cs_new, average='macro'))\n",
    "\n"
   ]
  },
  {
   "cell_type": "markdown",
   "id": "133ee5e2",
   "metadata": {
    "collapsed": false,
    "jupyter": {
     "outputs_hidden": false
    }
   },
   "source": [
    "## S-MoTe2"
   ]
  },
  {
   "cell_type": "code",
   "execution_count": 3,
   "id": "92f0830e-73f5-4c36-9545-f5e7c4d8b98a",
   "metadata": {},
   "outputs": [],
   "source": [
    "img = np.array(Image.open('../data/S-MoTe2.jpg'))\n",
    "df = pd.read_csv('./results/S-MoTe2-UMAP-based dimension-reduced K-means clustering.csv')\n",
    "\n",
    "x = df['x'].tolist()\n",
    "y = df['y'].tolist()\n",
    "cluster = df['cluster'].tolist()"
   ]
  },
  {
   "cell_type": "code",
   "execution_count": 4,
   "id": "39e256c7-b446-49da-8839-69677c88fced",
   "metadata": {},
   "outputs": [],
   "source": [
    "c = ['#6067AF', '#FDE725', '#6067AF', '#F98A23']\n",
    "# ['purple', 'yellow', 'purple', 'orange']\n",
    "\n",
    "cs250 = [c[item] for item in cluster]\n",
    "\n",
    "# plt.figure(figsize=(10, 10))\n",
    "# plt.imshow(img, cmap='gray')\n",
    "# plt.scatter(x, y, c=cs250, s=12)\n",
    "\n",
    "# for idx, (i1, i2) in enumerate(zip(x, y)):\n",
    "#     plt.text(i1, i2, idx, c='green')"
   ]
  },
  {
   "cell_type": "code",
   "execution_count": 5,
   "id": "4750f439-6f44-4bbe-bf14-eb40bd84748d",
   "metadata": {},
   "outputs": [],
   "source": [
    "cs_new250 = deepcopy(cs250)\n",
    "\n",
    "cs_new250[90] = '#6067AF'\n",
    "cs_new250[476] = '#6067AF'\n",
    "cs_new250[593] = '#6067AF'\n",
    "cs_new250[606] = '#F98A23'\n",
    "\n",
    "# plt.figure(figsize=(10, 10))\n",
    "# plt.imshow(img, cmap='gray')\n",
    "# plt.scatter(x, y, c=cs_new250, s=12)\n",
    "\n",
    "# for idx, (i1, i2) in enumerate(zip(x, y)):\n",
    "#     plt.text(i1, i2, idx, c='green')"
   ]
  },
  {
   "cell_type": "markdown",
   "id": "d06ad119-678f-449c-b50a-d1f3dec03e3b",
   "metadata": {},
   "source": [
    "# Te-MoS2"
   ]
  },
  {
   "cell_type": "code",
   "execution_count": 6,
   "id": "2e9eb92c-d0d9-4f49-8721-ec57bf1bfb3e",
   "metadata": {},
   "outputs": [],
   "source": [
    "img = np.array(Image.open('../data/Te-MoS2.jpg'))\n",
    "df = pd.read_csv('./results/Te-MoS2-UMAP-based dimension-reduced K-means clustering.csv')\n",
    "\n",
    "x = df['x'].tolist()\n",
    "y = df['y'].tolist()\n",
    "cluster = df['cluster'].tolist()"
   ]
  },
  {
   "cell_type": "code",
   "execution_count": 7,
   "id": "a3d065ac-c0fc-4943-bcac-31fec6145e21",
   "metadata": {},
   "outputs": [],
   "source": [
    "c = ['#6067AF', '#FDE725', '#6067AF', '#F98A23']\n",
    "# ['purple', 'yellow', 'purple', 'orange']\n",
    "\n",
    "cs650 = [c[item] for item in cluster]\n",
    "\n",
    "# plt.figure(figsize=(10, 10))\n",
    "# plt.imshow(img, cmap='gray')\n",
    "# plt.scatter(x, y, c=cs650, s=12)\n",
    "\n",
    "# for idx, (i1, i2) in enumerate(zip(x, y)):\n",
    "#     plt.text(i1, i2, idx, c='green')"
   ]
  },
  {
   "cell_type": "code",
   "execution_count": 8,
   "id": "38d61933-5519-49d8-a30f-97df5cdfb770",
   "metadata": {},
   "outputs": [],
   "source": [
    "cs_new650 = deepcopy(cs650)\n",
    "\n",
    "cs_new650[63] = '#6067AF'\n",
    "cs_new650[614] = '#6067AF'\n",
    "cs_new650[467] = '#FDE725'\n",
    "\n",
    "# plt.figure(figsize=(10, 10))\n",
    "# plt.imshow(img, cmap='gray')\n",
    "# plt.scatter(x, y, c=cs_new650, s=12)\n",
    "\n",
    "# for idx, (i1, i2) in enumerate(zip(x, y)):\n",
    "#     plt.text(i1, i2, idx, c='green')"
   ]
  },
  {
   "cell_type": "code",
   "execution_count": 9,
   "id": "b6ed35b3-4f18-4276-aaf2-29846eb498be",
   "metadata": {},
   "outputs": [],
   "source": [
    "cs = cs250 + cs650\n",
    "cs_new = cs_new250 + cs_new650"
   ]
  },
  {
   "cell_type": "code",
   "execution_count": 10,
   "id": "541e7723-90b0-499b-b01f-9bc8b3b242c0",
   "metadata": {},
   "outputs": [
    {
     "name": "stdout",
     "output_type": "stream",
     "text": [
      "ACC: 0.9944488501189532\n",
      "Precision: 0.9938144529435448\n",
      "Recall: 0.9867092648300041\n",
      "F1: 0.9902031860130194\n"
     ]
    }
   ],
   "source": [
    "get_metrics(cs, cs_new)"
   ]
  },
  {
   "cell_type": "markdown",
   "id": "8e6af90e-baf4-4f87-afcc-4293d00469d2",
   "metadata": {
    "pycharm": {
     "name": "#%% md\n"
    }
   },
   "source": [
    "\n",
    "\n",
    "\n",
    "\n",
    "\n",
    "\n",
    "\n"
   ]
  }
 ],
 "metadata": {
  "kernelspec": {
   "display_name": "Python 3 (ipykernel)",
   "language": "python",
   "name": "python3"
  },
  "language_info": {
   "codemirror_mode": {
    "name": "ipython",
    "version": 3
   },
   "file_extension": ".py",
   "mimetype": "text/x-python",
   "name": "python",
   "nbconvert_exporter": "python",
   "pygments_lexer": "ipython3",
   "version": "3.8.0"
  }
 },
 "nbformat": 4,
 "nbformat_minor": 5
}
