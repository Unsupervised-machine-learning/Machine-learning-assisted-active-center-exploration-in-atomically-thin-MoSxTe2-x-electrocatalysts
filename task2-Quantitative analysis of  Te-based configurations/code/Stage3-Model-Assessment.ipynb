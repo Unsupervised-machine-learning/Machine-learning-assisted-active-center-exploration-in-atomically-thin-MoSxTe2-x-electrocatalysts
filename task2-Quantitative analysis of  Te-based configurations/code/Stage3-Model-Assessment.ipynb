{
 "cells": [
  {
   "cell_type": "code",
   "execution_count": 1,
   "id": "35fc9c4f-0cb4-4dad-837f-7baf44371275",
   "metadata": {},
   "outputs": [],
   "source": [
    "import json\n",
    "import numpy as np\n",
    "import pandas as pd\n",
    "import matplotlib.pyplot as plt\n",
    "\n",
    "from PIL import Image\n",
    "from copy import deepcopy\n",
    "from sklearn.metrics import accuracy_score, f1_score, precision_score, recall_score\n",
    "from sklearn.metrics import normalized_mutual_info_score"
   ]
  },
  {
   "cell_type": "code",
   "execution_count": 2,
   "id": "e3a10b81-21c2-407a-b87a-3bd1802cc6e0",
   "metadata": {},
   "outputs": [],
   "source": [
    "def get_metrics(cs, cs_new):\n",
    "    print('ACC:', accuracy_score(cs, cs_new))\n",
    "    print('Precision:', precision_score(cs, cs_new, average='macro'))\n",
    "    print('Recall:', recall_score(cs, cs_new, average='macro'))\n",
    "    print('F1:', f1_score(cs, cs_new, average='macro'))\n",
    "\n"
   ]
  },
  {
   "cell_type": "markdown",
   "id": "af10d47e-5a43-4928-8272-dc66c0e1cfb8",
   "metadata": {},
   "source": [
    "## Te-MoS2"
   ]
  },
  {
   "cell_type": "code",
   "execution_count": 3,
   "id": "3112d7ba-0500-4d15-a75d-4fea00aa5647",
   "metadata": {},
   "outputs": [],
   "source": [
    "img = np.array(Image.open('../data/Te-MoS2.jpg'))\n",
    "df = pd.read_csv('./results/Te-MoS2-UMAP-based dimension-reduced K-means clustering.csv')\n",
    "\n",
    "x = df['x'].tolist()\n",
    "y = df['y'].tolist()\n",
    "cluster = df['cluster'].tolist()"
   ]
  },
  {
   "cell_type": "code",
   "execution_count": 4,
   "id": "f125d450-45df-42da-a4ed-571c6ce91331",
   "metadata": {},
   "outputs": [],
   "source": [
    "c = [\n",
    "    \"#FF7F0E\",  # orange\n",
    "    \"#2CA02C\",  # green\n",
    "    \"#FF7F0E\",  # orange\n",
    "]\n",
    "\n",
    "cs0 = [c[item] for item in cluster]\n",
    "\n",
    "# plt.figure(figsize=(10, 10))\n",
    "# plt.imshow(img, cmap='gray')\n",
    "# plt.scatter(x, y, c=cs0, s=12)\n",
    "\n",
    "# for idx, (i1, i2) in enumerate(zip(x, y)):\n",
    "#     plt.text(i1, i2, idx, c='green')"
   ]
  },
  {
   "cell_type": "code",
   "execution_count": 5,
   "id": "2b49b097-1ad7-4555-a4cc-ba361a71ec68",
   "metadata": {},
   "outputs": [],
   "source": [
    "cs_new0 = deepcopy(cs0)\n",
    "\n",
    "cs_new0[52] = \"#FF7F0E\"\n",
    "cs_new0[80] = \"#FF7F0E\"\n",
    "\n",
    "# plt.figure(figsize=(10, 10))\n",
    "# plt.imshow(img, cmap='gray')\n",
    "# plt.scatter(x, y, c=cs_new0, s=12)\n",
    "\n",
    "# for idx, (i1, i2) in enumerate(zip(x, y)):\n",
    "#     plt.text(i1, i2, idx, c='green')"
   ]
  },
  {
   "cell_type": "markdown",
   "id": "5a0971e3-5218-4112-96b3-759ae596cc53",
   "metadata": {},
   "source": [
    "## S-MoTe2"
   ]
  },
  {
   "cell_type": "code",
   "execution_count": 6,
   "id": "28259a4e-02bc-4d96-af74-aff759b6b277",
   "metadata": {},
   "outputs": [],
   "source": [
    "img = np.array(Image.open('../data/S-MoTe2.jpg'))\n",
    "df = pd.read_csv('./results/S-MoTe2-UMAP-based dimension-reduced K-means clustering.csv')\n",
    "\n",
    "x = df['x'].tolist()\n",
    "y = df['y'].tolist()\n",
    "cluster = df['cluster'].tolist()"
   ]
  },
  {
   "cell_type": "code",
   "execution_count": 7,
   "id": "003fbc25-5991-4755-978f-74bf638bbb8b",
   "metadata": {},
   "outputs": [],
   "source": [
    "c = [\n",
    "    \"#FF7F0E\",  # orange\n",
    "    \"#2CA02C\",  # green\n",
    "    \"#FF7F0E\",  # orange\n",
    "]\n",
    "\n",
    "cs1 = [c[item] for item in cluster]\n",
    "\n",
    "# plt.figure(figsize=(10, 10))\n",
    "# plt.imshow(img, cmap='gray')\n",
    "# plt.scatter(x, y, c=cs1, s=12)\n",
    "\n",
    "# for idx, (i1, i2) in enumerate(zip(x, y)):\n",
    "#     plt.text(i1, i2, idx, c='green')"
   ]
  },
  {
   "cell_type": "code",
   "execution_count": 8,
   "id": "3b37bdab-ab0b-40f7-9e19-d584f3672fd6",
   "metadata": {},
   "outputs": [],
   "source": [
    "cs_new1 = deepcopy(cs1)\n",
    "\n",
    "cs_new1[17] = \"#2CA02C\"\n",
    "cs_new1[77] = \"#2CA02C\"\n",
    "cs_new1[82] = \"#2CA02C\"\n",
    "cs_new1[104] = \"#2CA02C\"\n",
    "cs_new1[106] = \"#2CA02C\"\n",
    "cs_new1[67] = \"#2CA02C\"\n",
    "cs_new1[95] = \"#2CA02C\"\n",
    "cs_new1[132] = \"#2CA02C\"\n",
    "cs_new1[163] = \"#2CA02C\"\n",
    "cs_new1[165] = \"#2CA02C\"\n",
    "cs_new1[167] = \"#2CA02C\"\n",
    "\n",
    "# plt.figure(figsize=(10, 10))\n",
    "# plt.imshow(img, cmap='gray')\n",
    "# plt.scatter(x, y, c=cs_new1, s=12)\n",
    "\n",
    "# for idx, (i1, i2) in enumerate(zip(x, y)):\n",
    "#     plt.text(i1, i2, idx, c='green')"
   ]
  },
  {
   "cell_type": "code",
   "execution_count": 9,
   "id": "63579fb9-cfe1-49b0-a621-3d4e33b786a4",
   "metadata": {},
   "outputs": [],
   "source": [
    "cs = cs0 + cs1\n",
    "cs_new = cs_new0 + cs_new1"
   ]
  },
  {
   "cell_type": "code",
   "execution_count": 10,
   "id": "09c6f469-d5f3-4c60-8906-24f0b901fabc",
   "metadata": {},
   "outputs": [
    {
     "name": "stdout",
     "output_type": "stream",
     "text": [
      "ACC: 0.9638888888888889\n",
      "Precision: 0.9002084418968213\n",
      "Recall: 0.9615384615384616\n",
      "F1: 0.9275261324041812\n"
     ]
    }
   ],
   "source": [
    "get_metrics(cs, cs_new)"
   ]
  },
  {
   "cell_type": "code",
   "execution_count": null,
   "id": "6ecb62fe-6a91-4bfc-a8dc-dccca6c451ce",
   "metadata": {},
   "outputs": [],
   "source": []
  }
 ],
 "metadata": {
  "kernelspec": {
   "display_name": "Python 3 (ipykernel)",
   "language": "python",
   "name": "python3"
  },
  "language_info": {
   "codemirror_mode": {
    "name": "ipython",
    "version": 3
   },
   "file_extension": ".py",
   "mimetype": "text/x-python",
   "name": "python",
   "nbconvert_exporter": "python",
   "pygments_lexer": "ipython3",
   "version": "3.8.0"
  }
 },
 "nbformat": 4,
 "nbformat_minor": 5
}