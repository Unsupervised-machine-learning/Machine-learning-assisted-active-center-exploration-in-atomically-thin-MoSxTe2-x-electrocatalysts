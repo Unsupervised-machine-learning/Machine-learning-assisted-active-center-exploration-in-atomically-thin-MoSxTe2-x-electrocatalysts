{
 "cells": [
  {
   "cell_type": "code",
   "execution_count": 1,
   "id": "9499fafe-efad-4ebd-9bd9-be3c67b424c1",
   "metadata": {},
   "outputs": [],
   "source": [
    "import os\n",
    "import cv2\n",
    "import glob\n",
    "import json\n",
    "import numpy as np\n",
    "import pandas as pd\n",
    "import matplotlib.pyplot as plt\n",
    "\n",
    "from PIL import Image\n",
    "from labelme import utils\n",
    "from skimage.feature import peak_local_max"
   ]
  },
  {
   "cell_type": "markdown",
   "id": "85aab6f1-bf02-4a2f-9cdb-35e64a4f0692",
   "metadata": {},
   "source": [
    "# Point Detection"
   ]
  },
  {
   "cell_type": "code",
   "execution_count": 2,
   "id": "e1aa374c-19f6-487e-b524-3ce1d1107af8",
   "metadata": {},
   "outputs": [],
   "source": [
    "def blur(image, ks=7):\n",
    "    kernel_size = (ks, ks)\n",
    "    blurred_image = cv2.GaussianBlur(image, kernel_size, sigmaX=0)\n",
    "    return blurred_image"
   ]
  },
  {
   "cell_type": "code",
   "execution_count": 3,
   "id": "29bf23c9-1cb0-4657-a8b6-e2fa9f2e1fd6",
   "metadata": {},
   "outputs": [],
   "source": [
    "def norm_0_1(mask):    \n",
    "    x_min = np.min(mask)\n",
    "    x_max = np.max(mask)\n",
    "    \n",
    "    new_mask = (mask-x_min)/(x_max-x_min)\n",
    "    \n",
    "    return new_mask\n",
    "\n",
    "def get_dotsmap(den_map, min_dis=14, thres=0.8, light_thres=60):\n",
    "    \n",
    "    if np.max(den_map) < thres:\n",
    "        return []\n",
    "    \n",
    "    den_map_norm = norm_0_1(den_map)\n",
    "    \n",
    "    x_y = peak_local_max(\n",
    "        den_map, \n",
    "        min_distance = min_dis,\n",
    "        threshold_abs = thres,\n",
    "    )\n",
    "    \n",
    "    dots_map = np.zeros(den_map.shape)\n",
    "    dots_map[x_y[:, 0].tolist(), x_y[:, 1].tolist()] = 1\n",
    "    \n",
    "    return np.array(dots_map, np.uint8)"
   ]
  },
  {
   "cell_type": "code",
   "execution_count": 4,
   "id": "ac8eca98-9e46-48c1-bb02-af21a357b5bb",
   "metadata": {},
   "outputs": [],
   "source": [
    "def get_json(img_path):\n",
    "    img = np.array(Image.open(img_path))\n",
    "    lbl = get_dotsmap(img)\n",
    "    w, h = np.where(lbl != 0)\n",
    "    \n",
    "    points = [[h[i], w[i]] for i in range(len(h))]\n",
    "    points = np.array(points, np.int32).tolist()\n",
    "    shapes = [{\"label\": 'atom', \"points\": [item], \"group_id\": None, \"shape_type\": \"point\", \"flags\": {}} for item in points]\n",
    "    imagePath = img_path.split('/')[-1]\n",
    "    imageData = utils.img_arr_to_b64(img).decode('utf-8')\n",
    "    imageHeight, imageWidth = img.shape\n",
    "    \n",
    "    json_data = {\n",
    "        'version': '5.0.1',\n",
    "        'flags': {},\n",
    "        'shapes': shapes,\n",
    "        'imagePath': imagePath,\n",
    "        'imageData': imageData,\n",
    "        'imageHeight': imageHeight,\n",
    "        'imageWidth': imageWidth\n",
    "    }\n",
    "    \n",
    "    return json_data"
   ]
  },
  {
   "cell_type": "code",
   "execution_count": 5,
   "id": "1f276ee2-7d59-4703-a4ea-95231be57acf",
   "metadata": {},
   "outputs": [],
   "source": [
    "def save_json(img_path):\n",
    "    json_data = get_json(img_path)\n",
    "    \n",
    "    with open(img_path.replace('.jpg', '.json'), 'w') as f:\n",
    "        json.dump(json_data, f)"
   ]
  },
  {
   "cell_type": "markdown",
   "id": "1d806807-b926-406d-aedd-2710766cb309",
   "metadata": {},
   "source": [
    "# Save Json"
   ]
  },
  {
   "cell_type": "code",
   "execution_count": 6,
   "id": "5c799645-6b2c-40ed-a353-00517fc0d21d",
   "metadata": {},
   "outputs": [],
   "source": [
    "img_lst = glob.glob('../data/*.jpg') \n",
    "\n",
    "for item in img_lst:\n",
    "    save_json(item)"
   ]
  },
  {
   "cell_type": "code",
   "execution_count": null,
   "id": "0476ce4b-33b3-42dd-ae57-da7c9295f473",
   "metadata": {},
   "outputs": [],
   "source": []
  },
  {
   "cell_type": "code",
   "execution_count": null,
   "id": "14b1d807-d17b-46b8-b731-0206e9dd32d8",
   "metadata": {},
   "outputs": [],
   "source": []
  }
 ],
 "metadata": {
  "kernelspec": {
   "display_name": "Python 3 (ipykernel)",
   "language": "python",
   "name": "python3"
  },
  "language_info": {
   "codemirror_mode": {
    "name": "ipython",
    "version": 3
   },
   "file_extension": ".py",
   "mimetype": "text/x-python",
   "name": "python",
   "nbconvert_exporter": "python",
   "pygments_lexer": "ipython3",
   "version": "3.8.0"
  }
 },
 "nbformat": 4,
 "nbformat_minor": 5
}